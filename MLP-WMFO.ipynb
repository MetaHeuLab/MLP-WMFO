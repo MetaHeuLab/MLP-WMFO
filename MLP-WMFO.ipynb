{
 "cells": [
  {
   "cell_type": "code",
   "execution_count": 1,
   "id": "b12c1487",
   "metadata": {},
   "outputs": [],
   "source": [
    "# Import necessary libraries\n",
    "import pandas as pd\n",
    "from sklearn.model_selection import train_test_split\n",
    "from sklearn.neural_network import MLPRegressor\n",
    "from sklearn.preprocessing import MinMaxScaler\n",
    "from sklearn.metrics import mean_squared_error, r2_score\n",
    "import matplotlib.pyplot as plt\n",
    "\n",
    "import numpy as np\n",
    "import time\n",
    "import random\n",
    "from sklearn.metrics import mean_squared_error\n",
    "from sklearn.metrics import mean_absolute_error\n",
    "from sklearn.metrics import mean_absolute_percentage_error\n",
    "import matplotlib.pyplot as plt\n",
    "from metaperceptron import Data\n",
    "import warnings\n",
    "warnings.filterwarnings('ignore')\n",
    "\n",
    "\n",
    "from numpy.random import normal, rand, choice, uniform\n",
    "from numpy import mean, pi, sin, cos, array,zeros\n",
    "from math import gamma\n",
    "import numpy\n",
    "from copy import deepcopy\n",
    "import random as rande\n",
    "import math\n",
    "from numpy import where\n",
    "import time\n",
    "import csv\n"
   ]
  },
  {
   "cell_type": "code",
   "execution_count": 2,
   "id": "55a33d90",
   "metadata": {},
   "outputs": [],
   "source": [
    "from WMFO import WMFO\n",
    "\n",
    "# Define the objective function to minimize\n",
    "def mlp_objective_function(params):\n",
    "    # Reshape the flattened parameters to the original shapes of weights and biases\n",
    "    shapes = [w.shape for w in mlp.model.coefs_ + mlp.model.intercepts_]\n",
    "    params = numpy.split(params, numpy.cumsum([numpy.prod(shape) for shape in shapes]))\n",
    "\n",
    "    # Set the parameters in the MLP model\n",
    "    for i in range(len(mlp.model.coefs_)):\n",
    "        mlp.model.coefs_[i] = params[i].reshape(shapes[i])\n",
    "    for i in range(len(mlp.model.intercepts_)):\n",
    "        mlp.model.intercepts_[i] = params[len(mlp.model.coefs_) + i].reshape(shapes[len(mlp.model.coefs_) + i])\n",
    "\n",
    "    # Train the model and return the mean squared error as the objective to minimize\n",
    "    mlp.fit(data.X_train, data.y_train.ravel())\n",
    "    y_pred = mlp.predict(data.X_test)\n",
    "    mse = mean_squared_error(data.y_test, y_pred)\n",
    "\n",
    "    return mse\n"
   ]
  },
  {
   "cell_type": "code",
   "execution_count": 3,
   "id": "c4a614a9",
   "metadata": {},
   "outputs": [],
   "source": [
    "\n",
    "# Define the objective function to minimize\n",
    "def mlp_objective_function(params):\n",
    "    # Reshape the flattened parameters to the original shapes of weights and biases\n",
    "    shapes = [w.shape for w in mlp.model.coefs_ + mlp.model.intercepts_]\n",
    "    params = numpy.split(params, numpy.cumsum([numpy.prod(shape) for shape in shapes]))\n",
    "\n",
    "    # Set the parameters in the MLP model\n",
    "    for i in range(len(mlp.model.coefs_)):\n",
    "        mlp.model.coefs_[i] = params[i].reshape(shapes[i])\n",
    "    for i in range(len(mlp.model.intercepts_)):\n",
    "        mlp.model.intercepts_[i] = params[len(mlp.model.coefs_) + i].reshape(shapes[len(mlp.model.coefs_) + i])\n",
    "\n",
    "    # Train the model and return the mean squared error as the objective to minimize\n",
    "    mlp.fit(data.X_train, data.y_train.ravel())\n",
    "    y_pred = mlp.predict(data.X_test)\n",
    "    mse = mean_squared_error(data.y_test, y_pred)\n",
    "\n",
    "    return mse\n",
    "\n",
    "class MLPRegression(object):\n",
    "    def __init__(self, inputSize, outputSize, hiddenLayerSizes):\n",
    "        self.inputSize = inputSize\n",
    "        self.outputSize = outputSize\n",
    "        self.hiddenLayerSizes = hiddenLayerSizes\n",
    "        self.model = MLPRegressor(activation='relu', hidden_layer_sizes=hiddenLayerSizes, batch_size=32,) #solver='adam', max_iter=300,\n",
    "        \n",
    "\n",
    "    def predict(self, X):\n",
    "        return self.model.predict(X)\n",
    "\n",
    "    def fit(self, X, y):\n",
    "        self.model.fit(X, y)\n",
    "\n",
    "    def get_weights_and_biases(self):\n",
    "        # Accessing the weights and biases for each layer\n",
    "        weights = self.model.coefs_\n",
    "        biases = self.model.intercepts_\n",
    "        return weights, biases\n",
    "\n",
    "    def establish_model(self, params):\n",
    "        shapes = [w.shape for w in self.model.coefs_ + self.model.intercepts_]\n",
    "        params = numpy.split(params, numpy.cumsum([numpy.prod(shape) for shape in shapes]))\n",
    "\n",
    "        # Set the parameters in the MLP model\n",
    "        for i in range(len(self.model.coefs_)):\n",
    "            self.model.coefs_[i] = params[i].reshape(shapes[i])\n",
    "        for i in range(len(self.model.intercepts_)):\n",
    "            self.model.intercepts_[i] = params[len(self.model.coefs_) + i].reshape(shapes[len(self.model.coefs_) + i])\n",
    "\n",
    "\n"
   ]
  },
  {
   "cell_type": "code",
   "execution_count": 4,
   "id": "4fd3b47c",
   "metadata": {},
   "outputs": [
    {
     "name": "stdout",
     "output_type": "stream",
     "text": [
      "(102, 6) (26, 6)\n",
      "<class 'numpy.ndarray'> <class 'numpy.ndarray'>\n",
      "1.864812e-03\n"
     ]
    }
   ],
   "source": [
    "# Example usage:\n",
    "inputSize = 5\n",
    "outputSize = 1\n",
    "hiddenLayerSizes = (30, 15, 5)\n",
    "\n",
    "# Load and preprocess data\n",
    "df=pd.read_csv('Finland.csv')\n",
    "\n",
    "output=['CO2']\n",
    "features=['FR', 'GASF', 'GDP', 'OIF', 'REC', 'PR',] #\n",
    " \n",
    "X=df[features].values\n",
    "y=df[output].values\n",
    "\n",
    "data = Data(X, y)\n",
    "## Split train and test\n",
    "data.split_train_test(test_size=0.2, random_state=2, inplace=True)\n",
    "print(data.X_train.shape, data.X_test.shape)\n",
    "\n",
    "## Scaling dataset\n",
    "data.X_train, scaler_X = data.scale(data.X_train, scaling_methods=(\"standard\", \"minmax\"))\n",
    "data.X_test = scaler_X.transform(data.X_test)\n",
    "\n",
    "data.y_train, scaler_y = data.scale(data.y_train, scaling_methods=(\"standard\", \"minmax\"))\n",
    "data.y_test = scaler_y.transform(data.y_test)\n",
    "\n",
    "print(type(data.X_train), type(data.y_train))\n",
    "\n",
    "\n",
    "mlp = MLPRegression(inputSize, outputSize, hiddenLayerSizes)\n",
    "\n",
    "# Assuming you have training data X_train, y_train\n",
    "mlp.fit(data.X_train, data.y_train)\n",
    "\n",
    "# Get weights and biases\n",
    "weights, biases = mlp.get_weights_and_biases()\n",
    "\n",
    "initial_params = numpy.concatenate([w.flatten() for w in weights + biases])\n",
    "shapes = [w.shape for w in weights + biases]\n",
    "\n",
    "\n",
    "# Set the lower and upper bounds for each parameter\n",
    "# Define the search space bounds for SCA\n",
    "lb = -1.0\n",
    "ub = 1.0\n",
    "PopSize = 20\n",
    "iters = 50\n",
    "problem_size=len(initial_params)\n",
    "\n",
    "# Perform SCA optimization to find the optimal weights and biases\n",
    "wmfo_solution = WMFO(mlp_objective_function, lb, ub, problem_size, PopSize, iters)\n",
    "\n",
    "result = wmfo_solution\n",
    "\n",
    "#mlp.establish_model(sca_solution.bestIndividual)\n",
    "\n",
    "\n",
    "Flag = False\n",
    "def storedata(p):\n",
    "    import csv\n",
    "    global Flag\n",
    "    ExportToFile = \"WMFO.csv\"\n",
    "    CnvgHeader = []\n",
    "    with open(ExportToFile, \"a\", newline=\"\\n\") as out:\n",
    "        writer = csv.writer(out, delimiter=\",\")\n",
    "        if (Flag == False):  # just one time to write the header of the CSV file\n",
    "            header = np.concatenate([[\"Optimizer\", \"objfname\", \"ExecutionTime\", \"best\"], CnvgHeader])\n",
    "            writer.writerow(header)\n",
    "            Flag = True\n",
    "        a = np.concatenate([[p.optimizer, p.objfname, p.executionTime, p.best], p.convergence])\n",
    "        writer.writerow(a)\n",
    "        out.close()\n",
    "\n",
    "storedata(result)\n",
    "\n",
    "y_pred_train = mlp.predict(data.X_train)\n",
    "y_pred = mlp.predict(data.X_test)\n",
    "\n",
    "train_prediction = y_pred_train\n",
    "test_prediction = y_pred\n",
    "y_train_gen = data.y_train\n",
    "y_test_gen = data.y_test\n",
    "\n",
    "\n"
   ]
  },
  {
   "cell_type": "code",
   "execution_count": 5,
   "id": "a1ade89c",
   "metadata": {},
   "outputs": [
    {
     "name": "stdout",
     "output_type": "stream",
     "text": [
      "Mode\tNNSE_Train\tNNSE_Test\tR2_Train\tR2_Test\tMSE_Train\tMSE_Test\tMSLE_Train\tMSLE_Test\tMAE_Train\tMAE_Test\n",
      "MLP-WMFO\t0.983429\t0.973289\t0.98315\t0.972556\t0.001085\t0.001865\t0.00043\t0.00072\t0.02486\t0.034572\n"
     ]
    }
   ],
   "source": [
    "from permetrics import RegressionMetric\n",
    "evaluator_train = RegressionMetric(y_train_gen, train_prediction, decimal=6)\n",
    "evaluator_test = RegressionMetric(y_test_gen, test_prediction, decimal=6)\n",
    "\n",
    "name = \"MLP-WMFO\"\n",
    "name_model = ['Mode', 'NNSE_Train', 'NNSE_Test', 'R2_Train', 'R2_Test', 'MSE_Train', 'MSE_Test', 'MSLE_Train', 'MSLE_Test', 'MAE_Train', 'MAE_Test']\n",
    "print(*name_model, sep='\\t')\n",
    "model_result = [name,\n",
    "                evaluator_train.NNSE(),\n",
    "               evaluator_test.NNSE(),\n",
    "               evaluator_train.R2(),\n",
    "               evaluator_test.R2(),\n",
    "               evaluator_train.MSE(),\n",
    "               evaluator_test.MSE(),\n",
    "               evaluator_train.MSLE(),\n",
    "               evaluator_test.MSLE(),\n",
    "               evaluator_train.MAE(),\n",
    "               evaluator_test.MAE(),]\n",
    "print(*model_result, sep='\\t')\n"
   ]
  },
  {
   "cell_type": "code",
   "execution_count": 6,
   "id": "117bbf55",
   "metadata": {},
   "outputs": [
    {
     "name": "stderr",
     "output_type": "stream",
     "text": [
      "No artists with labels found to put in legend.  Note that artists whose label start with an underscore are ignored when legend() is called with no argument.\n"
     ]
    },
    {
     "data": {
      "image/png": "[encoded data removed]",
      "text/plain": [
       "<Figure size 360x288 with 1 Axes>"
      ]
     },
     "metadata": {
      "needs_background": "light"
     },
     "output_type": "display_data"
    },
    {
     "name": "stderr",
     "output_type": "stream",
     "text": [
      "No artists with labels found to put in legend.  Note that artists whose label start with an underscore are ignored when legend() is called with no argument.\n"
     ]
    },
    {
     "data": {
      "image/png": "[encoded data removed]",
      "text/plain": [
       "<Figure size 360x288 with 1 Axes>"
      ]
     },
     "metadata": {
      "needs_background": "light"
     },
     "output_type": "display_data"
    }
   ],
   "source": [
    "#---------------------------------------------------\n",
    "\n",
    "# Plot and save actual vs. predicted values for testing data\n",
    "plt.figure(figsize=(5, 4))\n",
    "plt.scatter(data.y_train, np.asarray(y_pred_train).flatten(), c='blue', s=100, alpha = 0.8, edgecolor='black', linewidth=1)\n",
    "#plt.style.use('seaborn')\n",
    "plt.plot([min(data.y_train), max(data.y_train)], [min(data.y_train), max(data.y_train)], color='red', linestyle='--', linewidth=2)\n",
    "plt.xlabel('Actual CO2')\n",
    "plt.ylabel('Predicted CO2')\n",
    "plt.title(f'{name} Training Dataset')\n",
    "plt.legend(loc='best')\n",
    "plt.tight_layout()\n",
    "plt.grid(False)\n",
    "plt.savefig(f'{name} Training.png')\n",
    "plt.show()\n",
    "\n",
    "\n",
    "#----------------------------------------------\n",
    "\n",
    "\n",
    "# Plot and save actual vs. predicted values for testing data\n",
    "plt.figure(figsize=(5, 4))\n",
    "plt.scatter(data.y_test, np.asarray(y_pred).flatten(), c='blue', s=100, alpha = 0.8, edgecolor='black', linewidth=1)\n",
    "#plt.style.use('seaborn')\n",
    "plt.plot([min(data.y_test), max(data.y_test)], [min(data.y_test), max(data.y_test)], color='red', linestyle='--', linewidth=2 )\n",
    "plt.xlabel('Actual CO2')\n",
    "plt.ylabel('Predicted CO2')\n",
    "plt.title(f'{name} Testing Dataset')\n",
    "plt.legend(loc='best')\n",
    "plt.tight_layout()\n",
    "plt.grid(False)\n",
    "plt.savefig(f'{name} Testing.png')\n",
    "plt.show()\n",
    "\n",
    "\n",
    "#-----------------------------------------------------"
   ]
  },
  {
   "cell_type": "code",
   "execution_count": null,
   "id": "a32930da",
   "metadata": {},
   "outputs": [],
   "source": []
  }
 ],
 "metadata": {
  "kernelspec": {
   "display_name": "Python 3 (ipykernel)",
   "language": "python",
   "name": "python3"
  },
  "language_info": {
   "codemirror_mode": {
    "name": "ipython",
    "version": 3
   },
   "file_extension": ".py",
   "mimetype": "text/x-python",
   "name": "python",
   "nbconvert_exporter": "python",
   "pygments_lexer": "ipython3",
   "version": "3.10.5"
  }
 },
 "nbformat": 4,
 "nbformat_minor": 5
}
